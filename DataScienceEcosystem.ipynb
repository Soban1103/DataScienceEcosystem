{
 "cells": [
  {
   "cell_type": "markdown",
   "id": "e0bf2910-3b46-4fa2-a388-842a6757081d",
   "metadata": {},
   "source": [
    "# Data Science Tools and Ecosystem"
   ]
  },
  {
   "cell_type": "markdown",
   "id": "56c0c56f-c6ff-4e69-be29-1c648b1cff0e",
   "metadata": {},
   "source": [
    "In this notebook, Data Science Tools and Ecosystem are summarized."
   ]
  },
  {
   "cell_type": "markdown",
   "id": "9d2a24fe-d55f-4069-b7a2-6a04913287ca",
   "metadata": {},
   "source": [
    "Some of the popular languages that Data Scientists use are:\n",
    "    \n",
    "    1. Python\n",
    "    2. R\n",
    "    3. SQL\n",
    "    4. C"
   ]
  },
  {
   "cell_type": "markdown",
   "id": "ec6b53d9-2e72-4280-abf0-5e9eee974cca",
   "metadata": {},
   "source": [
    "Some of the commonly used libraries used by Data Scientists include:\n",
    "\n",
    "1. Pandas\n",
    "2. Numpy\n",
    "3. Matplotlib\n",
    "4. Seaborn"
   ]
  },
  {
   "cell_type": "markdown",
   "id": "69c8e628-1611-4455-866b-885676a3d88b",
   "metadata": {
    "tags": []
   },
   "source": [
    "| Data Science Tools |\n",
    "----------------------\n",
    "| SAS |\n",
    "| Apache Spark |\n",
    "| Git |\n",
    "| Jupyter Notebooks |"
   ]
  },
  {
   "cell_type": "markdown",
   "id": "609d0ca2-3ace-4130-a1e7-d987adf7de8b",
   "metadata": {
    "tags": []
   },
   "source": [
    "### Below are a few examples of evaluating arithmetic expressions in Python"
   ]
  },
  {
   "cell_type": "code",
   "execution_count": 2,
   "id": "c18215cc-39b3-472f-bd54-95bb59c52c85",
   "metadata": {
    "tags": []
   },
   "outputs": [
    {
     "data": {
      "text/plain": [
       "17"
      ]
     },
     "execution_count": 2,
     "metadata": {},
     "output_type": "execute_result"
    }
   ],
   "source": [
    "#This a simple arithmetic expression to mutiply then add integers.\n",
    "(3*4)+5"
   ]
  },
  {
   "cell_type": "code",
   "execution_count": 3,
   "id": "a867ac58-9103-454b-a9de-39bb951f6a16",
   "metadata": {
    "tags": []
   },
   "outputs": [
    {
     "data": {
      "text/plain": [
       "3.3333333333333335"
      ]
     },
     "execution_count": 3,
     "metadata": {},
     "output_type": "execute_result"
    }
   ],
   "source": [
    "#This will convert 200 minutes to hours by diving by 60.\n",
    "200/60 "
   ]
  },
  {
   "cell_type": "markdown",
   "id": "1af7ec9b-53bd-4412-b3ad-d4ba9fbd1787",
   "metadata": {},
   "source": [
    "**Objectives:**\n",
    "- This course talks about various data science languages like python, R, Sql.\n",
    "- This course talks about various data science libraries like pandas, matplotlib, numpy etc.\n",
    "- This course also includes data science tools such as SAS, Git, Apache Spark etc."
   ]
  },
  {
   "cell_type": "markdown",
   "id": "72705655-0e2c-4fc3-a275-a403553c6c28",
   "metadata": {},
   "source": [
    "## Author\n",
    "Mohammad Soban Shaikh"
   ]
  }
 ],
 "metadata": {
  "kernelspec": {
   "display_name": "Python",
   "language": "python",
   "name": "conda-env-python-py"
  },
  "language_info": {
   "codemirror_mode": {
    "name": "ipython",
    "version": 3
   },
   "file_extension": ".py",
   "mimetype": "text/x-python",
   "name": "python",
   "nbconvert_exporter": "python",
   "pygments_lexer": "ipython3",
   "version": "3.7.12"
  }
 },
 "nbformat": 4,
 "nbformat_minor": 5
}
